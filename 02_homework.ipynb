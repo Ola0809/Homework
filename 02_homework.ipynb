{
 "cells": [
  {
   "cell_type": "code",
   "execution_count": 29,
   "id": "4638865f",
   "metadata": {},
   "outputs": [],
   "source": [
    "import pandas as pd\n"
   ]
  },
  {
   "cell_type": "markdown",
   "id": "80470440",
   "metadata": {},
   "source": [
    "# Easy\n",
    "Открыть набор данных dota_hero_stats.csv из папки data.\n",
    "\n",
    "Данные взяты отсюда, на этом же сайте можно найти больше разнообразных данных по Dota2.\n",
    "\n",
    "Пересчитаем число ног у героев игры Dota2! Сгруппируйте героев из датасэта по числу их ног (колонка legs), и посчитайте количество героев для каждого значения legs"
   ]
  },
  {
   "cell_type": "code",
   "execution_count": 96,
   "id": "8833ff05",
   "metadata": {},
   "outputs": [],
   "source": [
    "import requests\n",
    "import json\n",
    "link = 'https://api.opendota.com/api/heroes'\n",
    "r = requests.get(link)\n",
    "data = json.loads(r.text)"
   ]
  },
  {
   "cell_type": "code",
   "execution_count": 97,
   "id": "bc98c820",
   "metadata": {},
   "outputs": [
    {
     "data": {
      "text/html": [
       "<div>\n",
       "<style scoped>\n",
       "    .dataframe tbody tr th:only-of-type {\n",
       "        vertical-align: middle;\n",
       "    }\n",
       "\n",
       "    .dataframe tbody tr th {\n",
       "        vertical-align: top;\n",
       "    }\n",
       "\n",
       "    .dataframe thead th {\n",
       "        text-align: right;\n",
       "    }\n",
       "</style>\n",
       "<table border=\"1\" class=\"dataframe\">\n",
       "  <thead>\n",
       "    <tr style=\"text-align: right;\">\n",
       "      <th></th>\n",
       "      <th>id</th>\n",
       "      <th>name</th>\n",
       "      <th>localized_name</th>\n",
       "      <th>primary_attr</th>\n",
       "      <th>attack_type</th>\n",
       "      <th>roles</th>\n",
       "      <th>legs</th>\n",
       "    </tr>\n",
       "  </thead>\n",
       "  <tbody>\n",
       "    <tr>\n",
       "      <th>0</th>\n",
       "      <td>1</td>\n",
       "      <td>npc_dota_hero_antimage</td>\n",
       "      <td>Anti-Mage</td>\n",
       "      <td>agi</td>\n",
       "      <td>Melee</td>\n",
       "      <td>[Carry, Escape, Nuker]</td>\n",
       "      <td>2</td>\n",
       "    </tr>\n",
       "    <tr>\n",
       "      <th>1</th>\n",
       "      <td>2</td>\n",
       "      <td>npc_dota_hero_axe</td>\n",
       "      <td>Axe</td>\n",
       "      <td>str</td>\n",
       "      <td>Melee</td>\n",
       "      <td>[Initiator, Durable, Disabler, Jungler, Carry]</td>\n",
       "      <td>2</td>\n",
       "    </tr>\n",
       "    <tr>\n",
       "      <th>2</th>\n",
       "      <td>3</td>\n",
       "      <td>npc_dota_hero_bane</td>\n",
       "      <td>Bane</td>\n",
       "      <td>int</td>\n",
       "      <td>Ranged</td>\n",
       "      <td>[Support, Disabler, Nuker, Durable]</td>\n",
       "      <td>4</td>\n",
       "    </tr>\n",
       "    <tr>\n",
       "      <th>3</th>\n",
       "      <td>4</td>\n",
       "      <td>npc_dota_hero_bloodseeker</td>\n",
       "      <td>Bloodseeker</td>\n",
       "      <td>agi</td>\n",
       "      <td>Melee</td>\n",
       "      <td>[Carry, Disabler, Jungler, Nuker, Initiator]</td>\n",
       "      <td>2</td>\n",
       "    </tr>\n",
       "    <tr>\n",
       "      <th>4</th>\n",
       "      <td>5</td>\n",
       "      <td>npc_dota_hero_crystal_maiden</td>\n",
       "      <td>Crystal Maiden</td>\n",
       "      <td>int</td>\n",
       "      <td>Ranged</td>\n",
       "      <td>[Support, Disabler, Nuker, Jungler]</td>\n",
       "      <td>2</td>\n",
       "    </tr>\n",
       "    <tr>\n",
       "      <th>...</th>\n",
       "      <td>...</td>\n",
       "      <td>...</td>\n",
       "      <td>...</td>\n",
       "      <td>...</td>\n",
       "      <td>...</td>\n",
       "      <td>...</td>\n",
       "      <td>...</td>\n",
       "    </tr>\n",
       "    <tr>\n",
       "      <th>105</th>\n",
       "      <td>107</td>\n",
       "      <td>npc_dota_hero_earth_spirit</td>\n",
       "      <td>Earth Spirit</td>\n",
       "      <td>str</td>\n",
       "      <td>Melee</td>\n",
       "      <td>[Nuker, Escape, Disabler, Initiator, Durable]</td>\n",
       "      <td>2</td>\n",
       "    </tr>\n",
       "    <tr>\n",
       "      <th>106</th>\n",
       "      <td>108</td>\n",
       "      <td>npc_dota_hero_abyssal_underlord</td>\n",
       "      <td>Underlord</td>\n",
       "      <td>str</td>\n",
       "      <td>Melee</td>\n",
       "      <td>[Support, Nuker, Disabler, Durable, Escape]</td>\n",
       "      <td>2</td>\n",
       "    </tr>\n",
       "    <tr>\n",
       "      <th>107</th>\n",
       "      <td>109</td>\n",
       "      <td>npc_dota_hero_terrorblade</td>\n",
       "      <td>Terrorblade</td>\n",
       "      <td>agi</td>\n",
       "      <td>Melee</td>\n",
       "      <td>[Carry, Pusher, Nuker]</td>\n",
       "      <td>2</td>\n",
       "    </tr>\n",
       "    <tr>\n",
       "      <th>108</th>\n",
       "      <td>110</td>\n",
       "      <td>npc_dota_hero_phoenix</td>\n",
       "      <td>Phoenix</td>\n",
       "      <td>str</td>\n",
       "      <td>Ranged</td>\n",
       "      <td>[Support, Nuker, Initiator, Escape, Disabler]</td>\n",
       "      <td>2</td>\n",
       "    </tr>\n",
       "    <tr>\n",
       "      <th>109</th>\n",
       "      <td>111</td>\n",
       "      <td>npc_dota_hero_oracle</td>\n",
       "      <td>Oracle</td>\n",
       "      <td>int</td>\n",
       "      <td>Ranged</td>\n",
       "      <td>[Support, Nuker, Disabler, Escape]</td>\n",
       "      <td>0</td>\n",
       "    </tr>\n",
       "  </tbody>\n",
       "</table>\n",
       "<p>110 rows × 7 columns</p>\n",
       "</div>"
      ],
      "text/plain": [
       "      id                             name  localized_name primary_attr  \\\n",
       "0      1           npc_dota_hero_antimage       Anti-Mage          agi   \n",
       "1      2                npc_dota_hero_axe             Axe          str   \n",
       "2      3               npc_dota_hero_bane            Bane          int   \n",
       "3      4        npc_dota_hero_bloodseeker     Bloodseeker          agi   \n",
       "4      5     npc_dota_hero_crystal_maiden  Crystal Maiden          int   \n",
       "..   ...                              ...             ...          ...   \n",
       "105  107       npc_dota_hero_earth_spirit    Earth Spirit          str   \n",
       "106  108  npc_dota_hero_abyssal_underlord       Underlord          str   \n",
       "107  109        npc_dota_hero_terrorblade     Terrorblade          agi   \n",
       "108  110            npc_dota_hero_phoenix         Phoenix          str   \n",
       "109  111             npc_dota_hero_oracle          Oracle          int   \n",
       "\n",
       "    attack_type                                           roles  legs  \n",
       "0         Melee                          [Carry, Escape, Nuker]     2  \n",
       "1         Melee  [Initiator, Durable, Disabler, Jungler, Carry]     2  \n",
       "2        Ranged             [Support, Disabler, Nuker, Durable]     4  \n",
       "3         Melee    [Carry, Disabler, Jungler, Nuker, Initiator]     2  \n",
       "4        Ranged             [Support, Disabler, Nuker, Jungler]     2  \n",
       "..          ...                                             ...   ...  \n",
       "105       Melee   [Nuker, Escape, Disabler, Initiator, Durable]     2  \n",
       "106       Melee     [Support, Nuker, Disabler, Durable, Escape]     2  \n",
       "107       Melee                          [Carry, Pusher, Nuker]     2  \n",
       "108      Ranged   [Support, Nuker, Initiator, Escape, Disabler]     2  \n",
       "109      Ranged              [Support, Nuker, Disabler, Escape]     0  \n",
       "\n",
       "[110 rows x 7 columns]"
      ]
     },
     "execution_count": 97,
     "metadata": {},
     "output_type": "execute_result"
    }
   ],
   "source": [
    "import pandas as pd\n",
    "df = pd.DataFrame(data)\n",
    "df.head(110)"
   ]
  },
  {
   "cell_type": "code",
   "execution_count": 15,
   "id": "dd7ea3e4",
   "metadata": {},
   "outputs": [
    {
     "data": {
      "text/html": [
       "<div>\n",
       "<style scoped>\n",
       "    .dataframe tbody tr th:only-of-type {\n",
       "        vertical-align: middle;\n",
       "    }\n",
       "\n",
       "    .dataframe tbody tr th {\n",
       "        vertical-align: top;\n",
       "    }\n",
       "\n",
       "    .dataframe thead th {\n",
       "        text-align: right;\n",
       "    }\n",
       "</style>\n",
       "<table border=\"1\" class=\"dataframe\">\n",
       "  <thead>\n",
       "    <tr style=\"text-align: right;\">\n",
       "      <th></th>\n",
       "      <th>0</th>\n",
       "      <th>1</th>\n",
       "      <th>2</th>\n",
       "      <th>3</th>\n",
       "      <th>4</th>\n",
       "      <th>5</th>\n",
       "      <th>6</th>\n",
       "      <th>7</th>\n",
       "      <th>8</th>\n",
       "      <th>9</th>\n",
       "      <th>...</th>\n",
       "      <th>113</th>\n",
       "      <th>114</th>\n",
       "      <th>115</th>\n",
       "      <th>116</th>\n",
       "      <th>117</th>\n",
       "      <th>118</th>\n",
       "      <th>119</th>\n",
       "      <th>120</th>\n",
       "      <th>121</th>\n",
       "      <th>122</th>\n",
       "    </tr>\n",
       "  </thead>\n",
       "  <tbody>\n",
       "    <tr>\n",
       "      <th>localized_name</th>\n",
       "      <td>Anti-Mage</td>\n",
       "      <td>Axe</td>\n",
       "      <td>Bane</td>\n",
       "      <td>Bloodseeker</td>\n",
       "      <td>Crystal Maiden</td>\n",
       "      <td>Drow Ranger</td>\n",
       "      <td>Earthshaker</td>\n",
       "      <td>Juggernaut</td>\n",
       "      <td>Mirana</td>\n",
       "      <td>Morphling</td>\n",
       "      <td>...</td>\n",
       "      <td>Dark Willow</td>\n",
       "      <td>Pangolier</td>\n",
       "      <td>Grimstroke</td>\n",
       "      <td>Hoodwink</td>\n",
       "      <td>Void Spirit</td>\n",
       "      <td>Snapfire</td>\n",
       "      <td>Mars</td>\n",
       "      <td>Dawnbreaker</td>\n",
       "      <td>Marci</td>\n",
       "      <td>Primal Beast</td>\n",
       "    </tr>\n",
       "    <tr>\n",
       "      <th>legs</th>\n",
       "      <td>2</td>\n",
       "      <td>2</td>\n",
       "      <td>4</td>\n",
       "      <td>2</td>\n",
       "      <td>2</td>\n",
       "      <td>2</td>\n",
       "      <td>2</td>\n",
       "      <td>2</td>\n",
       "      <td>2</td>\n",
       "      <td>0</td>\n",
       "      <td>...</td>\n",
       "      <td>2</td>\n",
       "      <td>2</td>\n",
       "      <td>0</td>\n",
       "      <td>4</td>\n",
       "      <td>2</td>\n",
       "      <td>2</td>\n",
       "      <td>2</td>\n",
       "      <td>2</td>\n",
       "      <td>2</td>\n",
       "      <td>2</td>\n",
       "    </tr>\n",
       "  </tbody>\n",
       "</table>\n",
       "<p>2 rows × 123 columns</p>\n",
       "</div>"
      ],
      "text/plain": [
       "                      0    1     2            3               4    \\\n",
       "localized_name  Anti-Mage  Axe  Bane  Bloodseeker  Crystal Maiden   \n",
       "legs                    2    2     4            2               2   \n",
       "\n",
       "                        5            6           7       8          9    ...  \\\n",
       "localized_name  Drow Ranger  Earthshaker  Juggernaut  Mirana  Morphling  ...   \n",
       "legs                      2            2           2       2          0  ...   \n",
       "\n",
       "                        113        114         115       116          117  \\\n",
       "localized_name  Dark Willow  Pangolier  Grimstroke  Hoodwink  Void Spirit   \n",
       "legs                      2          2           0         4            2   \n",
       "\n",
       "                     118   119          120    121           122  \n",
       "localized_name  Snapfire  Mars  Dawnbreaker  Marci  Primal Beast  \n",
       "legs                   2     2            2      2             2  \n",
       "\n",
       "[2 rows x 123 columns]"
      ]
     },
     "execution_count": 15,
     "metadata": {},
     "output_type": "execute_result"
    }
   ],
   "source": [
    "df[[\"localized_name\",\"legs\"]].T"
   ]
  },
  {
   "cell_type": "code",
   "execution_count": 98,
   "id": "411fd288",
   "metadata": {},
   "outputs": [
    {
     "data": {
      "text/plain": [
       "0"
      ]
     },
     "execution_count": 98,
     "metadata": {},
     "output_type": "execute_result"
    }
   ],
   "source": [
    "df[\"legs\"].min()"
   ]
  },
  {
   "cell_type": "code",
   "execution_count": 99,
   "id": "2c2e01b6",
   "metadata": {},
   "outputs": [
    {
     "data": {
      "text/plain": [
       "8"
      ]
     },
     "execution_count": 99,
     "metadata": {},
     "output_type": "execute_result"
    }
   ],
   "source": [
    "df[\"legs\"].max()"
   ]
  },
  {
   "cell_type": "code",
   "execution_count": 100,
   "id": "2e627ef2",
   "metadata": {},
   "outputs": [
    {
     "data": {
      "text/plain": [
       "legs\n",
       "0    14\n",
       "2    97\n",
       "4     8\n",
       "6     3\n",
       "8     1\n",
       "Name: localized_name, dtype: int64"
      ]
     },
     "execution_count": 100,
     "metadata": {},
     "output_type": "execute_result"
    }
   ],
   "source": [
    "df.groupby([\"legs\"]).localized_name.count()"
   ]
  },
  {
   "cell_type": "markdown",
   "id": "db5b5c33",
   "metadata": {},
   "source": [
    "# Normal\n",
    "\n",
    "Продолжим исследование героев Dota2. Сгруппируйте по колонкам attack_type и primary_attr и выберите самый распространённый набор характеристик. Выведите список героев с этим набором характеристик"
   ]
  },
  {
   "cell_type": "code",
   "execution_count": 101,
   "id": "e24b6ab8",
   "metadata": {},
   "outputs": [
    {
     "data": {
      "text/plain": [
       "attack_type  primary_attr\n",
       "Melee        agi             19\n",
       "             int              3\n",
       "             str             38\n",
       "Ranged       agi             19\n",
       "             int             40\n",
       "             str              4\n",
       "dtype: int64"
      ]
     },
     "execution_count": 101,
     "metadata": {},
     "output_type": "execute_result"
    }
   ],
   "source": [
    "df.groupby([\"attack_type\",\"primary_attr\"]).size()"
   ]
  },
  {
   "cell_type": "markdown",
   "id": "5bf2f657",
   "metadata": {},
   "source": [
    "Самым распространенным набором получается Ranged & int (40)"
   ]
  },
  {
   "cell_type": "code",
   "execution_count": 102,
   "id": "56032ad8",
   "metadata": {},
   "outputs": [
    {
     "data": {
      "text/plain": [
       "2                     Bane\n",
       "4           Crystal Maiden\n",
       "12                    Puck\n",
       "16            Storm Spirit\n",
       "20              Windranger\n",
       "21                    Zeus\n",
       "23                    Lina\n",
       "24                    Lion\n",
       "25           Shadow Shaman\n",
       "28            Witch Doctor\n",
       "29                    Lich\n",
       "31                  Enigma\n",
       "32                  Tinker\n",
       "34               Necrophos\n",
       "35                 Warlock\n",
       "37           Queen of Pain\n",
       "41           Death Prophet\n",
       "43                   Pugna\n",
       "48                  Dazzle\n",
       "50                 Leshrac\n",
       "51        Nature's Prophet\n",
       "56             Enchantress\n",
       "62                  Jakiro\n",
       "63                Batrider\n",
       "64                    Chen\n",
       "66      Ancient Apparition\n",
       "72                 Invoker\n",
       "73                Silencer\n",
       "74      Outworld Destroyer\n",
       "77            Shadow Demon\n",
       "84                  Rubick\n",
       "85               Disruptor\n",
       "88     Keeper of the Light\n",
       "90                  Visage\n",
       "99           Skywrath Mage\n",
       "103                Techies\n",
       "109                 Oracle\n",
       "110          Winter Wyvern\n",
       "113            Dark Willow\n",
       "115             Grimstroke\n",
       "Name: localized_name, dtype: object"
      ]
     },
     "execution_count": 102,
     "metadata": {},
     "output_type": "execute_result"
    }
   ],
   "source": [
    "df.localized_name[(df[\"attack_type\"] == \"Ranged\") & (df[\"primary_attr\"] == \"int\")]"
   ]
  }
 ],
 "metadata": {
  "kernelspec": {
   "display_name": "Python 3 (ipykernel)",
   "language": "python",
   "name": "python3"
  },
  "language_info": {
   "codemirror_mode": {
    "name": "ipython",
    "version": 3
   },
   "file_extension": ".py",
   "mimetype": "text/x-python",
   "name": "python",
   "nbconvert_exporter": "python",
   "pygments_lexer": "ipython3",
   "version": "3.9.12"
  }
 },
 "nbformat": 4,
 "nbformat_minor": 5
}
